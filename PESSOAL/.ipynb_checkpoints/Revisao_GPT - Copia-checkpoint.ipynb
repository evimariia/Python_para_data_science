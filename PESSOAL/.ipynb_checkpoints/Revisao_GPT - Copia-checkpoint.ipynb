{
 "cells": [
  {
   "cell_type": "code",
   "execution_count": 53,
   "id": "ada8cf24",
   "metadata": {},
   "outputs": [
    {
     "name": "stdout",
     "output_type": "stream",
     "text": [
      "5050\n"
     ]
    }
   ],
   "source": [
    "#Escreva um programa que calcule a soma dos números de 1 a 100.\n",
    "\n",
    "soma = 0\n",
    "\n",
    "for i in range(1, 101):\n",
    "    soma += i\n",
    "    \n",
    "print(soma)"
   ]
  },
  {
   "cell_type": "code",
   "execution_count": 54,
   "id": "9f2fd543",
   "metadata": {},
   "outputs": [
    {
     "name": "stdout",
     "output_type": "stream",
     "text": [
      "True\n",
      "False\n",
      "True\n",
      "True\n"
     ]
    }
   ],
   "source": [
    "#Crie uma função que receba um número como parâmetro e verifique se ele é primo.\n",
    "\n",
    "def checkPrime(number):\n",
    "    if(number % 2 != 0 or number == 2):\n",
    "        return True\n",
    "    else:\n",
    "        return False\n",
    "    \n",
    "print(checkPrime(3))\n",
    "print(checkPrime(4))\n",
    "print(checkPrime(2))\n",
    "print(checkPrime(13))"
   ]
  },
  {
   "cell_type": "code",
   "execution_count": 55,
   "id": "edd8d31b",
   "metadata": {},
   "outputs": [
    {
     "name": "stdout",
     "output_type": "stream",
     "text": [
      "Tom\n",
      "moT\n"
     ]
    }
   ],
   "source": [
    "#Implemente uma função que inverta uma string fornecida como entrada.\n",
    "\n",
    "def inverteString(string):\n",
    "    stringInvertida = string[::-1]\n",
    "    return stringInvertida\n",
    "       \n",
    "nome = 'Tom'\n",
    "print(nome)\n",
    "\n",
    "print(inverteString(nome))"
   ]
  },
  {
   "cell_type": "code",
   "execution_count": 56,
   "id": "0aeebd42",
   "metadata": {},
   "outputs": [
    {
     "name": "stdout",
     "output_type": "stream",
     "text": [
      "Digite um número: \n"
     ]
    },
    {
     "ename": "ValueError",
     "evalue": "invalid literal for int() with base 10: ''",
     "output_type": "error",
     "traceback": [
      "\u001b[1;31m---------------------------------------------------------------------------\u001b[0m",
      "\u001b[1;31mValueError\u001b[0m                                Traceback (most recent call last)",
      "\u001b[1;32m~\\AppData\\Local\\Temp\\ipykernel_12212\\1832504169.py\u001b[0m in \u001b[0;36m<module>\u001b[1;34m\u001b[0m\n\u001b[0;32m      7\u001b[0m         \u001b[1;32mreturn\u001b[0m \u001b[1;32mFalse\u001b[0m\u001b[1;33m\u001b[0m\u001b[1;33m\u001b[0m\u001b[0m\n\u001b[0;32m      8\u001b[0m \u001b[1;33m\u001b[0m\u001b[0m\n\u001b[1;32m----> 9\u001b[1;33m \u001b[0mnum\u001b[0m \u001b[1;33m=\u001b[0m \u001b[0mint\u001b[0m\u001b[1;33m(\u001b[0m\u001b[0minput\u001b[0m\u001b[1;33m(\u001b[0m\u001b[1;34m'Digite um número: '\u001b[0m\u001b[1;33m)\u001b[0m\u001b[1;33m)\u001b[0m\u001b[1;33m\u001b[0m\u001b[1;33m\u001b[0m\u001b[0m\n\u001b[0m\u001b[0;32m     10\u001b[0m \u001b[1;32mif\u001b[0m\u001b[1;33m(\u001b[0m\u001b[0mverificaPar\u001b[0m\u001b[1;33m(\u001b[0m\u001b[0mnum\u001b[0m\u001b[1;33m)\u001b[0m \u001b[1;33m==\u001b[0m \u001b[1;32mTrue\u001b[0m\u001b[1;33m)\u001b[0m\u001b[1;33m:\u001b[0m\u001b[1;33m\u001b[0m\u001b[1;33m\u001b[0m\u001b[0m\n\u001b[0;32m     11\u001b[0m     \u001b[0mprint\u001b[0m\u001b[1;33m(\u001b[0m\u001b[1;34m'O número é par'\u001b[0m\u001b[1;33m)\u001b[0m\u001b[1;33m\u001b[0m\u001b[1;33m\u001b[0m\u001b[0m\n",
      "\u001b[1;31mValueError\u001b[0m: invalid literal for int() with base 10: ''"
     ]
    }
   ],
   "source": [
    "#Escreva um programa que leia um número inteiro do usuário e imprima se ele é par ou ímpar.\n",
    "\n",
    "def verificaPar(numero):\n",
    "    if(numero % 2 == 0):\n",
    "        return True\n",
    "    else:\n",
    "        return False\n",
    "    \n",
    "num = int(input('Digite um número: '))\n",
    "if(verificaPar(num) == True):\n",
    "    print('O número é par')\n",
    "else:\n",
    "    print('O número é ímpar')"
   ]
  },
  {
   "cell_type": "code",
   "execution_count": 57,
   "id": "f60b9996",
   "metadata": {},
   "outputs": [
    {
     "name": "stdout",
     "output_type": "stream",
     "text": [
      "[4, 10, 12, 14]\n"
     ]
    }
   ],
   "source": [
    "#Crie uma função que receba uma lista como parâmetro e retorne uma nova lista apenas com os números pares.\n",
    "\n",
    "def apenasPares(lista):\n",
    "    listaPares = []\n",
    "    \n",
    "    for i in range(len(lista)):\n",
    "        if(lista[i] % 2 == 0):\n",
    "            listaPares.append(lista[i])\n",
    "            \n",
    "    return listaPares\n",
    "\n",
    "listaCompleta = [1, 3, 4, 5, 9, 10, 11, 12, 13, 14, 15]\n",
    "print(apenasPares(listaCompleta))"
   ]
  },
  {
   "cell_type": "code",
   "execution_count": 58,
   "id": "68d75d09",
   "metadata": {},
   "outputs": [
    {
     "data": {
      "text/plain": [
       "3"
      ]
     },
     "execution_count": 58,
     "metadata": {},
     "output_type": "execute_result"
    }
   ],
   "source": [
    "#Faça um programa que leia uma frase e conte quantas vezes cada palavra aparece.\n",
    "\n",
    "def contaPalavras(string, palavra):\n",
    "    count = 0\n",
    "    palavras = string.replace(', ', ' ')\n",
    "    palavraString = palavras.split()\n",
    "    \n",
    "    count = palavraString.count(palavra)\n",
    "    return count        \n",
    "\n",
    "string = 'corra, corra, corra, que a aula já vai começar!'\n",
    "palavra = 'corra'\n",
    "\n",
    "contaPalavras(string, palavra)"
   ]
  },
  {
   "cell_type": "code",
   "execution_count": 59,
   "id": "da7ac76a",
   "metadata": {},
   "outputs": [
    {
     "name": "stdout",
     "output_type": "stream",
     "text": [
      "120\n"
     ]
    }
   ],
   "source": [
    "#Implemente uma função recursiva para calcular o fatorial de um número.\n",
    "\n",
    "def fatorial(numero):    \n",
    "    if(numero == 0 or numero == 1):\n",
    "        return 1\n",
    "    else:\n",
    "        return numero * fatorial(numero-1)\n",
    "\n",
    "print(fatorial(5))"
   ]
  },
  {
   "cell_type": "code",
   "execution_count": 60,
   "id": "dc0967b9",
   "metadata": {},
   "outputs": [
    {
     "name": "stdout",
     "output_type": "stream",
     "text": [
      "[69, 8, 85, 96, 63, 37, 27, 71, 15, 79, 14, 15, 26, 80, 1, 97, 15, 46, 62, 12, 97, 4, 75, 77, 20, 28, 44, 40, 38, 36]\n",
      "(97, 1)\n"
     ]
    }
   ],
   "source": [
    "#Escreva um programa que leia uma lista de números e imprima o maior e o menor número da lista.\n",
    "\n",
    "import random\n",
    "\n",
    "def maior(lista):\n",
    "    maximo = lista[0]\n",
    "    minimo = lista[0]\n",
    "    \n",
    "    for i in range(len(lista)):\n",
    "        if(lista[i] >= maximo):\n",
    "            maximo = lista[i]\n",
    "            \n",
    "        elif(lista[i] < minimo):\n",
    "            minimo = lista[i]\n",
    "        i+=1\n",
    "        \n",
    "    return maximo, minimo\n",
    "\n",
    "lista = []\n",
    "for _ in range(30):\n",
    "    numero = random.randint(1, 100)  # Gera um número aleatório entre 1 e 100\n",
    "    lista.append(numero)\n",
    "    \n",
    "print(lista) \n",
    "print(maior(lista))"
   ]
  },
  {
   "cell_type": "code",
   "execution_count": 23,
   "id": "6487fd8f",
   "metadata": {},
   "outputs": [
    {
     "name": "stdout",
     "output_type": "stream",
     "text": [
      "True\n"
     ]
    }
   ],
   "source": [
    "#Crie uma função que verifique se uma palavra é um palíndromo (ou seja, se pode ser lida da mesma forma de trás para frente).\n",
    "\n",
    "def inverteString(string):\n",
    "    stringInvertida = string[::-1]\n",
    "    return stringInvertida\n",
    "\n",
    "def verificaPalindromo(string):\n",
    "    palavraInvertida = inverteString(string)\n",
    "    \n",
    "    for i in range(len(string)):\n",
    "        if(palavraInvertida[i] == string[i]):\n",
    "            return True\n",
    "        else:\n",
    "            return False\n",
    "            break\n",
    "            \n",
    "palavra = 'ame a ema'\n",
    "print(verificaPalindromo(palavra))"
   ]
  },
  {
   "cell_type": "code",
   "execution_count": 51,
   "id": "61085738",
   "metadata": {},
   "outputs": [
    {
     "name": "stdout",
     "output_type": "stream",
     "text": [
      "A Data Science Academy fornece cursos de alta qualidade e que transmitem muito conhecimento.\n"
     ]
    },
    {
     "data": {
      "text/plain": [
       "1"
      ]
     },
     "execution_count": 51,
     "metadata": {},
     "output_type": "execute_result"
    }
   ],
   "source": [
    "#Faça um programa que leia um arquivo de texto e conte quantas vezes cada palavra aparece no texto.\n",
    "\n",
    "def contaPalavras(string, palavra):\n",
    "    count = 0\n",
    "    palavras = string.replace(', ', ' ')\n",
    "    palavraString = palavras.split()\n",
    "    \n",
    "    count = palavraString.count(palavra)\n",
    "    return count        \n",
    "\n",
    "arq = open(\"arquivos/arquivo1.txt\", \"r\")\n",
    "lerArq = arq.read()\n",
    "print(lerArq)\n",
    "contaPalavras(lerArq, 'Data')"
   ]
  },
  {
   "cell_type": "code",
   "execution_count": null,
   "id": "ffedfd9a",
   "metadata": {},
   "outputs": [],
   "source": []
  }
 ],
 "metadata": {
  "kernelspec": {
   "display_name": "Python 3 (ipykernel)",
   "language": "python",
   "name": "python3"
  },
  "language_info": {
   "codemirror_mode": {
    "name": "ipython",
    "version": 3
   },
   "file_extension": ".py",
   "mimetype": "text/x-python",
   "name": "python",
   "nbconvert_exporter": "python",
   "pygments_lexer": "ipython3",
   "version": "3.9.13"
  }
 },
 "nbformat": 4,
 "nbformat_minor": 5
}
