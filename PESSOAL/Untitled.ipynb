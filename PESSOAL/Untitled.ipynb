{
 "cells": [
  {
   "cell_type": "code",
   "execution_count": null,
   "id": "0b2cc13b",
   "metadata": {},
   "outputs": [],
   "source": [
    "\"\"\"\n",
    "Encontre a maior substring comum entre as duas strings informadas. \n",
    "A substring pode ser qualquer parte da string, inclusive ela toda. \n",
    "Se não houver subseqüência comum, a saída deve ser “0”. A comparação é case sensitive ('x' != 'X').\n",
    "\n",
    "Entrada\n",
    "A entrada contém vários casos de teste. Cada caso de teste é composto por duas linhas, \n",
    "cada uma contendo uma string. Ambas strings de entrada contém entre 1 e 50 caracteres \n",
    "('A'-'Z','a'-'z' ou espaço ' '), inclusive, ou no mínimo uma letra ('A'-'Z','a'-'z').\n",
    "\n",
    "Saída\n",
    "O tamanho da maior subsequência comum entre as duas Strings.\n",
    "\"\"\""
   ]
  },
  {
   "cell_type": "code",
   "execution_count": 11,
   "id": "4969611e",
   "metadata": {},
   "outputs": [
    {
     "name": "stdout",
     "output_type": "stream",
     "text": [
      "c\n",
      "c\n",
      "1\n",
      "d\n",
      "d\n",
      "2\n",
      "f\n",
      "f\n",
      "3\n"
     ]
    },
    {
     "data": {
      "text/plain": [
       "3"
      ]
     },
     "execution_count": 11,
     "metadata": {},
     "output_type": "execute_result"
    }
   ],
   "source": [
    "def substring(string1, string2):\n",
    "    count = 0\n",
    "    \n",
    "    for i in range(len(string1)):\n",
    "        for j in range(len(string2)):\n",
    "            if(string1[i] == string2[j]):\n",
    "                print(string1[i])\n",
    "                print(string2[j])\n",
    "                count+=1\n",
    "                print(count)\n",
    "                \n",
    "            \n",
    "    \n",
    "    return count\n",
    "    \n",
    "substring('abcdef', 'cdofhij')"
   ]
  },
  {
   "cell_type": "code",
   "execution_count": null,
   "id": "e2f31b60",
   "metadata": {},
   "outputs": [],
   "source": []
  }
 ],
 "metadata": {
  "kernelspec": {
   "display_name": "Python 3 (ipykernel)",
   "language": "python",
   "name": "python3"
  },
  "language_info": {
   "codemirror_mode": {
    "name": "ipython",
    "version": 3
   },
   "file_extension": ".py",
   "mimetype": "text/x-python",
   "name": "python",
   "nbconvert_exporter": "python",
   "pygments_lexer": "ipython3",
   "version": "3.9.13"
  }
 },
 "nbformat": 4,
 "nbformat_minor": 5
}
